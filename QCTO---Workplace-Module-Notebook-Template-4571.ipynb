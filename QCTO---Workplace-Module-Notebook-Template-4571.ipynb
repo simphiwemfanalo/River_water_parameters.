{
 "cells": [
  {
   "cell_type": "markdown",
   "metadata": {},
   "source": [
    "# QCTO - Workplace Module\n",
    "\n",
    "### Project Title: Contaminated River Water Parameters\n",
    "#### Done By: Simphiwe Dlamini\n",
    "\n",
    "© ExploreAI 2024\n",
    "\n",
    "---\n",
    "\n",
    "## Table of Contents\n",
    "\n",
    "<a href=#BC> Background Context</a>\n",
    "\n",
    "<a href=#one>1. Importing Packages</a>\n",
    "\n",
    "<a href=#two>2. Data Collection and Description</a>\n",
    "\n",
    "<a href=#three>3. Loading Data </a>\n",
    "\n",
    "<a href=#four>4. Data Cleaning and Filtering</a>\n",
    "\n",
    "<a href=#five>5. Exploratory Data Analysis (EDA)</a>\n",
    "\n",
    "<a href=#six>6. Modeling </a>\n",
    "\n",
    "<a href=#seven>7. Evaluation and Validation</a>\n",
    "\n",
    "<a href=#eight>8. Final Model</a>\n",
    "\n",
    "<a href=#nine>9. Conclusion and Future Work</a>\n",
    "\n",
    "<a href=#ten>10. References</a>"
   ]
  },
  {
   "cell_type": "markdown",
   "metadata": {},
   "source": [
    "---\n",
    " <a id=\"BC\"></a>\n",
    "## **Background Context**\n",
    "<a href=#cont>Back to Table of Contents</a>\n",
    "\n",
    "* **Purpose:** The primary goal of this project is to monitor and analyze the water quality of various water bodies in a specific region,  Monitoring water quality is essential for safeguarding aquatic ecosystems and preserving biodiversity. It helps identify pollution sources and take corrective measures.Ensuring access to clean and safe drinking water is crucial for public health. Water quality monitoring helps prevent waterborne diseases and protect communities.The data collected through this project can inform policy decisions related to water resource management, pollution control, and public health.\n",
    "* **Details:** Include information about the problem domain, the specific questions or challenges the project aims to address, and any relevant background information that sets the stage for the work.\n",
    "---"
   ]
  },
  {
   "cell_type": "markdown",
   "metadata": {},
   "source": [
    "---\n",
    "<a href=#one></a>\n",
    "## **Importing Packages**\n",
    "<a href=#cont>Back to Table of Contents</a>\n",
    "\n",
    "* **Purpose:** Set up the Python environment with necessary libraries and tools.\n",
    "* **Details:** List and import all the Python packages that will be used throughout the project such as Pandas for data manipulation, Matplotlib/Seaborn for visualization, scikit-learn for modeling, etc.\n",
    "---"
   ]
  },
  {
   "cell_type": "code",
   "execution_count": 1,
   "metadata": {},
   "outputs": [],
   "source": [
    "import pandas as pd\n",
    "import numpy as np\n",
    "import matplotlib.pyplot as plt\n",
    "import seaborn as sns\n",
    "from sklearn.model_selection import train_test_split, cross_val_score\n",
    "from sklearn.preprocessing import StandardScaler\n",
    "from sklearn.linear_model import LinearRegression\n",
    "from sklearn.ensemble import RandomForestRegressor\n",
    "from sklearn.metrics import mean_squared_error, mean_absolute_error, r2_score\n",
    "import pandas as pd\n",
    "import re\n",
    "from html import unescape\n",
    "import html"
   ]
  },
  {
   "cell_type": "markdown",
   "metadata": {},
   "source": [
    "---\n",
    "<a href=#two></a>\n",
    "## **Data Collection and Description**\n",
    "<a href=#cont>Back to Table of Contents</a>\n",
    "\n",
    "* **Purpose:** \n",
    "The main aim is to predict the DO parameter of the river based on the other features. The dataset provides valuable information for understanding the water quality conditions in the study area.\n",
    "* **Details:** \n",
    "219 water samples took from 5 different locations. The size of the dataset will vary depending on the number of sampling points, frequency of measurements, and the duration of data collection. The dataset likely covers water quality parameters relevant to the region or study area, such as pH, temperature, dissolved oxygen, conductivity, turbidity, and nutrient levels. Most water quality parameters are measured numerically (e.g., pH, temperature, conductivity, turbidity).Some data may be categorical, such as sampling point location or water body type.\n",
    "---"
   ]
  },
  {
   "cell_type": "markdown",
   "metadata": {},
   "source": [
    "---\n",
    "<a href=#three></a>\n",
    "## **Loading Data**\n",
    "<a href=#cont>Back to Table of Contents</a>\n",
    "\n",
    "* **Purpose:** Load the data into the notebook for manipulation and analysis.\n",
    "* **Details:** Show the code used to load the data and display the first few rows to give a sense of what the raw data looks like.\n",
    "---"
   ]
  },
  {
   "cell_type": "code",
   "execution_count": 2,
   "metadata": {},
   "outputs": [
    {
     "name": "stdout",
     "output_type": "stream",
     "text": [
      "  Date (DD/MM/YYYY) Time (24 hrs XX:XX) Sampling point  \\\n",
      "0        09/05/2023               14:15  Puente Bilbao   \n",
      "1        14/06/2023               14:30  Puente Bilbao   \n",
      "2        14/06/2023               14:30  Puente Bilbao   \n",
      "\n",
      "   Ambient temperature (°C)  Ambient humidity  Sample temperature (°C)   pH  \\\n",
      "0                      17.0              0.47                     19.0  8.3   \n",
      "1                      11.9              0.47                     13.0  8.1   \n",
      "2                      11.9              0.47                     13.0  8.2   \n",
      "\n",
      "   EC\\n(µS/cm)  TDS\\n(mg/L)  TSS\\n(mL sed/L)  DO\\n(mg/L)  Level (cm)  \\\n",
      "0         1630          810              1.8        4.30         NaN   \n",
      "1         1000          490             18.0        5.30         NaN   \n",
      "2         1000          490             18.0        4.67         NaN   \n",
      "\n",
      "   Turbidity (NTU)  Hardness\\n(mg CaCO3/L) Hardness classification  \\\n",
      "0              NaN                   147.0                  BLANDA   \n",
      "1             41.2                    94.0                  BLANDA   \n",
      "2             38.9                    86.0                  BLANDA   \n",
      "\n",
      "   Total Cl-\\n(mg Cl-/L)  \n",
      "0                  156.0  \n",
      "1                   78.0  \n",
      "2                   82.0  \n"
     ]
    }
   ],
   "source": [
    "# Reading the anime.csv file into a DataFrame\n",
    "River_water_parameters_df1 = pd.read_csv('River water parameters.csv')\n",
    "print(River_water_parameters_df1.head(3))"
   ]
  },
  {
   "cell_type": "code",
   "execution_count": 3,
   "metadata": {},
   "outputs": [
    {
     "name": "stdout",
     "output_type": "stream",
     "text": [
      "  Date (DD/MM/YYYY) Time (24 hrs XX:XX) Sampling point  \\\n",
      "0         9/05/2023               14:15  Puente Bilbao   \n",
      "1        14/06/2023               14:30  Puente Bilbao   \n",
      "2        14/06/2023               14:30  Puente Bilbao   \n",
      "\n",
      "   Ambient temperature (°C)  Ambient humidity  Sample temperature (°C)   pH  \\\n",
      "0                      17.0              0.47                     19.0  8.3   \n",
      "1                      11.9              0.47                     13.0  8.1   \n",
      "2                      11.9              0.47                     13.0  8.2   \n",
      "\n",
      "   EC\\n(µS/cm)  TDS\\n(mg/L)  TSS\\n(mL sed/L)  DO\\n(mg/L)  Level (cm)  \\\n",
      "0         1630          810              1.8        4.30         NaN   \n",
      "1         1000          490             18.0        5.30         NaN   \n",
      "2         1000          490             18.0        4.67         NaN   \n",
      "\n",
      "   Turbidity (NTU)  Hardness\\n(mg CaCO3/L) Hardness classification  \\\n",
      "0              NaN                   147.0                  BLANDA   \n",
      "1             41.2                    94.0                  BLANDA   \n",
      "2             38.9                    86.0                  BLANDA   \n",
      "\n",
      "   Total Cl-\\n(mg Cl-/L)  \n",
      "0                  156.0  \n",
      "1                   78.0  \n",
      "2                   82.0  \n"
     ]
    }
   ],
   "source": [
    "# Reading the anime.csv file into a DataFrame\n",
    "River_water_parameters_df2 = pd.read_csv('River water parameters.xlsx - Base de Datos.csv')\n",
    "print(River_water_parameters_df2.head(3))"
   ]
  },
  {
   "cell_type": "code",
   "execution_count": 4,
   "metadata": {},
   "outputs": [
    {
     "data": {
      "text/html": [
       "<div>\n",
       "<style scoped>\n",
       "    .dataframe tbody tr th:only-of-type {\n",
       "        vertical-align: middle;\n",
       "    }\n",
       "\n",
       "    .dataframe tbody tr th {\n",
       "        vertical-align: top;\n",
       "    }\n",
       "\n",
       "    .dataframe thead th {\n",
       "        text-align: right;\n",
       "    }\n",
       "</style>\n",
       "<table border=\"1\" class=\"dataframe\">\n",
       "  <thead>\n",
       "    <tr style=\"text-align: right;\">\n",
       "      <th></th>\n",
       "      <th>Date (DD/MM/YYYY)</th>\n",
       "      <th>Time (24 hrs XX:XX)</th>\n",
       "      <th>Sampling point</th>\n",
       "      <th>Ambient temperature (°C)</th>\n",
       "      <th>Ambient humidity</th>\n",
       "      <th>Sample temperature (°C)</th>\n",
       "      <th>pH</th>\n",
       "      <th>EC\\n(µS/cm)</th>\n",
       "      <th>TDS\\n(mg/L)</th>\n",
       "      <th>TSS\\n(mL sed/L)</th>\n",
       "      <th>DO\\n(mg/L)</th>\n",
       "      <th>Level (cm)</th>\n",
       "      <th>Turbidity (NTU)</th>\n",
       "      <th>Hardness\\n(mg CaCO3/L)</th>\n",
       "      <th>Hardness classification</th>\n",
       "      <th>Total Cl-\\n(mg Cl-/L)</th>\n",
       "    </tr>\n",
       "  </thead>\n",
       "  <tbody>\n",
       "    <tr>\n",
       "      <th>0</th>\n",
       "      <td>09/05/2023</td>\n",
       "      <td>14:15</td>\n",
       "      <td>Puente Bilbao</td>\n",
       "      <td>17.0</td>\n",
       "      <td>0.47</td>\n",
       "      <td>19.0</td>\n",
       "      <td>8.3</td>\n",
       "      <td>1630</td>\n",
       "      <td>810</td>\n",
       "      <td>1.8</td>\n",
       "      <td>4.30</td>\n",
       "      <td>NaN</td>\n",
       "      <td>NaN</td>\n",
       "      <td>147.0</td>\n",
       "      <td>BLANDA</td>\n",
       "      <td>156.0</td>\n",
       "    </tr>\n",
       "    <tr>\n",
       "      <th>1</th>\n",
       "      <td>14/06/2023</td>\n",
       "      <td>14:30</td>\n",
       "      <td>Puente Bilbao</td>\n",
       "      <td>11.9</td>\n",
       "      <td>0.47</td>\n",
       "      <td>13.0</td>\n",
       "      <td>8.1</td>\n",
       "      <td>1000</td>\n",
       "      <td>490</td>\n",
       "      <td>18.0</td>\n",
       "      <td>5.30</td>\n",
       "      <td>NaN</td>\n",
       "      <td>41.2</td>\n",
       "      <td>94.0</td>\n",
       "      <td>BLANDA</td>\n",
       "      <td>78.0</td>\n",
       "    </tr>\n",
       "    <tr>\n",
       "      <th>2</th>\n",
       "      <td>14/06/2023</td>\n",
       "      <td>14:30</td>\n",
       "      <td>Puente Bilbao</td>\n",
       "      <td>11.9</td>\n",
       "      <td>0.47</td>\n",
       "      <td>13.0</td>\n",
       "      <td>8.2</td>\n",
       "      <td>1000</td>\n",
       "      <td>490</td>\n",
       "      <td>18.0</td>\n",
       "      <td>4.67</td>\n",
       "      <td>NaN</td>\n",
       "      <td>38.9</td>\n",
       "      <td>86.0</td>\n",
       "      <td>BLANDA</td>\n",
       "      <td>82.0</td>\n",
       "    </tr>\n",
       "  </tbody>\n",
       "</table>\n",
       "</div>"
      ],
      "text/plain": [
       "  Date (DD/MM/YYYY) Time (24 hrs XX:XX) Sampling point  \\\n",
       "0        09/05/2023               14:15  Puente Bilbao   \n",
       "1        14/06/2023               14:30  Puente Bilbao   \n",
       "2        14/06/2023               14:30  Puente Bilbao   \n",
       "\n",
       "   Ambient temperature (°C)  Ambient humidity  Sample temperature (°C)   pH  \\\n",
       "0                      17.0              0.47                     19.0  8.3   \n",
       "1                      11.9              0.47                     13.0  8.1   \n",
       "2                      11.9              0.47                     13.0  8.2   \n",
       "\n",
       "   EC\\n(µS/cm)  TDS\\n(mg/L)  TSS\\n(mL sed/L)  DO\\n(mg/L)  Level (cm)  \\\n",
       "0         1630          810              1.8        4.30         NaN   \n",
       "1         1000          490             18.0        5.30         NaN   \n",
       "2         1000          490             18.0        4.67         NaN   \n",
       "\n",
       "   Turbidity (NTU)  Hardness\\n(mg CaCO3/L) Hardness classification  \\\n",
       "0              NaN                   147.0                  BLANDA   \n",
       "1             41.2                    94.0                  BLANDA   \n",
       "2             38.9                    86.0                  BLANDA   \n",
       "\n",
       "   Total Cl-\\n(mg Cl-/L)  \n",
       "0                  156.0  \n",
       "1                   78.0  \n",
       "2                   82.0  "
      ]
     },
     "execution_count": 4,
     "metadata": {},
     "output_type": "execute_result"
    }
   ],
   "source": [
    "River_water_parameters_df1.head(3)\n"
   ]
  },
  {
   "cell_type": "code",
   "execution_count": 5,
   "metadata": {},
   "outputs": [
    {
     "data": {
      "text/html": [
       "<div>\n",
       "<style scoped>\n",
       "    .dataframe tbody tr th:only-of-type {\n",
       "        vertical-align: middle;\n",
       "    }\n",
       "\n",
       "    .dataframe tbody tr th {\n",
       "        vertical-align: top;\n",
       "    }\n",
       "\n",
       "    .dataframe thead th {\n",
       "        text-align: right;\n",
       "    }\n",
       "</style>\n",
       "<table border=\"1\" class=\"dataframe\">\n",
       "  <thead>\n",
       "    <tr style=\"text-align: right;\">\n",
       "      <th></th>\n",
       "      <th>Date (DD/MM/YYYY)</th>\n",
       "      <th>Time (24 hrs XX:XX)</th>\n",
       "      <th>Sampling point</th>\n",
       "      <th>Ambient temperature (°C)</th>\n",
       "      <th>Ambient humidity</th>\n",
       "      <th>Sample temperature (°C)</th>\n",
       "      <th>pH</th>\n",
       "      <th>EC\\n(µS/cm)</th>\n",
       "      <th>TDS\\n(mg/L)</th>\n",
       "      <th>TSS\\n(mL sed/L)</th>\n",
       "      <th>DO\\n(mg/L)</th>\n",
       "      <th>Level (cm)</th>\n",
       "      <th>Turbidity (NTU)</th>\n",
       "      <th>Hardness\\n(mg CaCO3/L)</th>\n",
       "      <th>Hardness classification</th>\n",
       "      <th>Total Cl-\\n(mg Cl-/L)</th>\n",
       "    </tr>\n",
       "  </thead>\n",
       "  <tbody>\n",
       "    <tr>\n",
       "      <th>0</th>\n",
       "      <td>9/05/2023</td>\n",
       "      <td>14:15</td>\n",
       "      <td>Puente Bilbao</td>\n",
       "      <td>17.0</td>\n",
       "      <td>0.47</td>\n",
       "      <td>19.0</td>\n",
       "      <td>8.3</td>\n",
       "      <td>1630</td>\n",
       "      <td>810</td>\n",
       "      <td>1.8</td>\n",
       "      <td>4.30</td>\n",
       "      <td>NaN</td>\n",
       "      <td>NaN</td>\n",
       "      <td>147.0</td>\n",
       "      <td>BLANDA</td>\n",
       "      <td>156.0</td>\n",
       "    </tr>\n",
       "    <tr>\n",
       "      <th>1</th>\n",
       "      <td>14/06/2023</td>\n",
       "      <td>14:30</td>\n",
       "      <td>Puente Bilbao</td>\n",
       "      <td>11.9</td>\n",
       "      <td>0.47</td>\n",
       "      <td>13.0</td>\n",
       "      <td>8.1</td>\n",
       "      <td>1000</td>\n",
       "      <td>490</td>\n",
       "      <td>18.0</td>\n",
       "      <td>5.30</td>\n",
       "      <td>NaN</td>\n",
       "      <td>41.2</td>\n",
       "      <td>94.0</td>\n",
       "      <td>BLANDA</td>\n",
       "      <td>78.0</td>\n",
       "    </tr>\n",
       "    <tr>\n",
       "      <th>2</th>\n",
       "      <td>14/06/2023</td>\n",
       "      <td>14:30</td>\n",
       "      <td>Puente Bilbao</td>\n",
       "      <td>11.9</td>\n",
       "      <td>0.47</td>\n",
       "      <td>13.0</td>\n",
       "      <td>8.2</td>\n",
       "      <td>1000</td>\n",
       "      <td>490</td>\n",
       "      <td>18.0</td>\n",
       "      <td>4.67</td>\n",
       "      <td>NaN</td>\n",
       "      <td>38.9</td>\n",
       "      <td>86.0</td>\n",
       "      <td>BLANDA</td>\n",
       "      <td>82.0</td>\n",
       "    </tr>\n",
       "  </tbody>\n",
       "</table>\n",
       "</div>"
      ],
      "text/plain": [
       "  Date (DD/MM/YYYY) Time (24 hrs XX:XX) Sampling point  \\\n",
       "0         9/05/2023               14:15  Puente Bilbao   \n",
       "1        14/06/2023               14:30  Puente Bilbao   \n",
       "2        14/06/2023               14:30  Puente Bilbao   \n",
       "\n",
       "   Ambient temperature (°C)  Ambient humidity  Sample temperature (°C)   pH  \\\n",
       "0                      17.0              0.47                     19.0  8.3   \n",
       "1                      11.9              0.47                     13.0  8.1   \n",
       "2                      11.9              0.47                     13.0  8.2   \n",
       "\n",
       "   EC\\n(µS/cm)  TDS\\n(mg/L)  TSS\\n(mL sed/L)  DO\\n(mg/L)  Level (cm)  \\\n",
       "0         1630          810              1.8        4.30         NaN   \n",
       "1         1000          490             18.0        5.30         NaN   \n",
       "2         1000          490             18.0        4.67         NaN   \n",
       "\n",
       "   Turbidity (NTU)  Hardness\\n(mg CaCO3/L) Hardness classification  \\\n",
       "0              NaN                   147.0                  BLANDA   \n",
       "1             41.2                    94.0                  BLANDA   \n",
       "2             38.9                    86.0                  BLANDA   \n",
       "\n",
       "   Total Cl-\\n(mg Cl-/L)  \n",
       "0                  156.0  \n",
       "1                   78.0  \n",
       "2                   82.0  "
      ]
     },
     "execution_count": 5,
     "metadata": {},
     "output_type": "execute_result"
    }
   ],
   "source": [
    "River_water_parameters_df2.head(3)"
   ]
  },
  {
   "cell_type": "code",
   "execution_count": 6,
   "metadata": {},
   "outputs": [
    {
     "name": "stdout",
     "output_type": "stream",
     "text": [
      "(219, 16)\n",
      "<class 'pandas.core.frame.DataFrame'>\n",
      "RangeIndex: 219 entries, 0 to 218\n",
      "Data columns (total 16 columns):\n",
      " #   Column                    Non-Null Count  Dtype  \n",
      "---  ------                    --------------  -----  \n",
      " 0   Date (DD/MM/YYYY)         219 non-null    object \n",
      " 1   Time (24 hrs XX:XX)       219 non-null    object \n",
      " 2   Sampling point            219 non-null    object \n",
      " 3   Ambient temperature (°C)  219 non-null    float64\n",
      " 4   Ambient humidity          219 non-null    float64\n",
      " 5   Sample temperature (°C)   219 non-null    float64\n",
      " 6   pH                        219 non-null    float64\n",
      " 7   EC\n",
      "(µS/cm)                219 non-null    int64  \n",
      " 8   TDS\n",
      "(mg/L)                219 non-null    int64  \n",
      " 9   TSS\n",
      "(mL sed/L)            213 non-null    float64\n",
      " 10  DO\n",
      "(mg/L)                 219 non-null    float64\n",
      " 11  Level (cm)                180 non-null    float64\n",
      " 12  Turbidity (NTU)           218 non-null    float64\n",
      " 13  Hardness\n",
      "(mg CaCO3/L)     217 non-null    float64\n",
      " 14  Hardness classification   217 non-null    object \n",
      " 15  Total Cl-\n",
      "(mg Cl-/L)      213 non-null    float64\n",
      "dtypes: float64(10), int64(2), object(4)\n",
      "memory usage: 27.5+ KB\n"
     ]
    }
   ],
   "source": [
    "\n",
    "print(River_water_parameters_df1.shape)\n",
    "\n",
    "River_water_parameters_df1.info()"
   ]
  },
  {
   "cell_type": "code",
   "execution_count": 7,
   "metadata": {},
   "outputs": [
    {
     "name": "stdout",
     "output_type": "stream",
     "text": [
      "(219, 16)\n",
      "<class 'pandas.core.frame.DataFrame'>\n",
      "RangeIndex: 219 entries, 0 to 218\n",
      "Data columns (total 16 columns):\n",
      " #   Column                    Non-Null Count  Dtype  \n",
      "---  ------                    --------------  -----  \n",
      " 0   Date (DD/MM/YYYY)         219 non-null    object \n",
      " 1   Time (24 hrs XX:XX)       219 non-null    object \n",
      " 2   Sampling point            219 non-null    object \n",
      " 3   Ambient temperature (°C)  219 non-null    float64\n",
      " 4   Ambient humidity          219 non-null    float64\n",
      " 5   Sample temperature (°C)   219 non-null    float64\n",
      " 6   pH                        219 non-null    float64\n",
      " 7   EC\n",
      "(µS/cm)                219 non-null    int64  \n",
      " 8   TDS\n",
      "(mg/L)                219 non-null    int64  \n",
      " 9   TSS\n",
      "(mL sed/L)            213 non-null    float64\n",
      " 10  DO\n",
      "(mg/L)                 219 non-null    float64\n",
      " 11  Level (cm)                180 non-null    float64\n",
      " 12  Turbidity (NTU)           218 non-null    float64\n",
      " 13  Hardness\n",
      "(mg CaCO3/L)     217 non-null    float64\n",
      " 14  Hardness classification   217 non-null    object \n",
      " 15  Total Cl-\n",
      "(mg Cl-/L)      213 non-null    float64\n",
      "dtypes: float64(10), int64(2), object(4)\n",
      "memory usage: 27.5+ KB\n"
     ]
    }
   ],
   "source": [
    "print(River_water_parameters_df2.shape)\n",
    "\n",
    "River_water_parameters_df2.info()"
   ]
  },
  {
   "cell_type": "markdown",
   "metadata": {},
   "source": [
    "---\n",
    "<a href=#four></a>\n",
    "## **Data Cleaning and Filtering**\n",
    "<a href=#cont>Back to Table of Contents</a>\n",
    "\n",
    "* **Purpose:** Prepare the data for analysis by cleaning and filtering.\n",
    "* **Details:** Include steps for handling missing values, removing outliers, correcting errors, and possibly reducing the data (filtering based on certain criteria or features).\n",
    "---"
   ]
  },
  {
   "cell_type": "code",
   "execution_count": null,
   "metadata": {},
   "outputs": [],
   "source": [
    "#Please use code cells to code in and do not forget to comment your code."
   ]
  },
  {
   "cell_type": "markdown",
   "metadata": {},
   "source": [
    "---\n",
    "<a href=#five></a>\n",
    "## **Exploratory Data Analysis (EDA)**\n",
    "<a href=#cont>Back to Table of Contents</a>\n",
    "\n",
    "* **Purpose:** Explore and visualize the data to uncover patterns, trends, and relationships.\n",
    "* **Details:** Use statistics and visualizations to explore the data. This may include histograms, box plots, scatter plots, and correlation matrices. Discuss any significant findings.\n",
    "---\n"
   ]
  },
  {
   "cell_type": "code",
   "execution_count": null,
   "metadata": {},
   "outputs": [],
   "source": [
    "#Please use code cells to code in and do not forget to comment your code."
   ]
  },
  {
   "cell_type": "markdown",
   "metadata": {},
   "source": [
    "---\n",
    "<a href=#six></a>\n",
    "## **Modeling**\n",
    "<a href=#cont>Back to Table of Contents</a>\n",
    "\n",
    "* **Purpose:** Develop and train predictive or statistical models.\n",
    "* **Details:** Describe the choice of models, feature selection and engineering processes, and show how the models are trained. Include code for setting up the models and explanations of the model parameters.\n",
    "---\n"
   ]
  },
  {
   "cell_type": "code",
   "execution_count": null,
   "metadata": {},
   "outputs": [],
   "source": [
    "#Please use code cells to code in and do not forget to comment your code."
   ]
  },
  {
   "cell_type": "markdown",
   "metadata": {},
   "source": [
    "---\n",
    "<a href=#seven></a>\n",
    "## **Evaluation and Validation**\n",
    "<a href=#cont>Back to Table of Contents</a>\n",
    "\n",
    "* **Purpose:** Evaluate and validate the effectiveness and accuracy of the models.\n",
    "* **Details:** Present metrics used to evaluate the models, such as accuracy, precision, recall, F1-score, etc. Discuss validation techniques employed, such as cross-validation or train/test split.\n",
    "---"
   ]
  },
  {
   "cell_type": "code",
   "execution_count": null,
   "metadata": {},
   "outputs": [],
   "source": [
    "#Please use code cells to code in and do not forget to comment your code."
   ]
  },
  {
   "cell_type": "markdown",
   "metadata": {},
   "source": [
    "---\n",
    "<a href=#eight></a>\n",
    "## **Final Model**\n",
    "<a href=#cont>Back to Table of Contents</a>\n",
    "\n",
    "* **Purpose:** Present the final model and its performance.\n",
    "* **Details:** Highlight the best-performing model and discuss its configuration, performance, and why it was chosen over others.\n",
    "---\n"
   ]
  },
  {
   "cell_type": "code",
   "execution_count": null,
   "metadata": {},
   "outputs": [],
   "source": [
    "#Please use code cells to code in and do not forget to comment your code."
   ]
  },
  {
   "cell_type": "markdown",
   "metadata": {},
   "source": [
    "---\n",
    "<a href=#nine></a>\n",
    "## **Conclusion and Future Work**\n",
    "<a href=#cont>Back to Table of Contents</a>\n",
    "\n",
    "* **Purpose:** Summarize the findings and discuss future directions.\n",
    "* **Details:** Conclude with a summary of the results, insights gained, limitations of the study, and suggestions for future projects or improvements in methodology or data collection.\n",
    "---\n"
   ]
  },
  {
   "cell_type": "code",
   "execution_count": null,
   "metadata": {},
   "outputs": [],
   "source": [
    "#Please use code cells to code in and do not forget to comment your code."
   ]
  },
  {
   "cell_type": "markdown",
   "metadata": {},
   "source": [
    "---\n",
    "<a href=#ten></a>\n",
    "## **References**\n",
    "<a href=#cont>Back to Table of Contents</a>\n",
    "\n",
    "* **Purpose:** Provide citations and sources of external content.\n",
    "* **Details:** List all the references and sources consulted during the project, including data sources, research papers, and documentation for tools and libraries used.\n",
    "---"
   ]
  },
  {
   "cell_type": "code",
   "execution_count": null,
   "metadata": {},
   "outputs": [],
   "source": [
    "#Please use code cells to code in and do not forget to comment your code."
   ]
  },
  {
   "cell_type": "markdown",
   "metadata": {},
   "source": [
    "## Additional Sections to Consider\n",
    "\n",
    "* ### Appendix: \n",
    "For any additional code, detailed tables, or extended data visualizations that are supplementary to the main content.\n",
    "\n",
    "* ### Contributors: \n",
    "If this is a group project, list the contributors and their roles or contributions to the project.\n"
   ]
  }
 ],
 "metadata": {
  "kernelspec": {
   "display_name": "Python 3",
   "language": "python",
   "name": "python3"
  },
  "language_info": {
   "codemirror_mode": {
    "name": "ipython",
    "version": 3
   },
   "file_extension": ".py",
   "mimetype": "text/x-python",
   "name": "python",
   "nbconvert_exporter": "python",
   "pygments_lexer": "ipython3",
   "version": "3.12.3"
  },
  "orig_nbformat": 4
 },
 "nbformat": 4,
 "nbformat_minor": 2
}
